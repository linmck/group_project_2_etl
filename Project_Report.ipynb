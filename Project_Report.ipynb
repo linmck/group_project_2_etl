{
 "cells": [
  {
   "cell_type": "markdown",
   "metadata": {},
   "source": [
    "# Project 2 - ETL Project\n",
    "# Public Libraries in Oregon\n",
    "### Lindsey McKenna & Michelle Trujillo"
   ]
  },
  {
   "cell_type": "markdown",
   "metadata": {},
   "source": [
    "\tOur goal was to create a foundation for identifying key statistics for the Oregon counties that have more public libraries as a resource for their community. This involved evaluating the number of libraries, the population and demographics, and the performance of public schools in each county. To accomplish this, we performed ETL on three key data sources; the US Census, the Oregon State Government’s Libraries Database, and the Oregon Department of Education’s School Report Cards."
   ]
  },
  {
   "cell_type": "markdown",
   "metadata": {},
   "source": [
    "### EXTRACT"
   ]
  },
  {
   "cell_type": "markdown",
   "metadata": {},
   "source": [
    "##### US Census"
   ]
  },
  {
   "cell_type": "markdown",
   "metadata": {},
   "source": [
    "    This database is provided by the United States Census Bureau. To obtain this data, we used an API. The variables used (as identified in the documentation here: https://api.census.gov/data/2017/acs/acs5/variables.html), include state, zip code tabulation area, unweighted sample count of the population, and houshold income in the past 12 months. The county population information was extracted in JSON format from the American Community Survey 5 Year Estimates (2017) census API. Data frames were created for both the county population (pop_by_county) and the household income by county (hhi_by_county)."
   ]
  },
  {
   "cell_type": "markdown",
   "metadata": {},
   "source": [
    "##### Oregon Libraries Database"
   ]
  },
  {
   "cell_type": "markdown",
   "metadata": {},
   "source": [
    "    This database is provided by the State Library of Oregon and was last updated on September 10, 2019. Although they currently offer an API to extract this data, due to our time constraints and the infrequency of updates to the database, we decided to use the CSV provided on their site (https://data.oregon.gov/dataset/Oregon-Library-Directory/6x9d-idz4). This CSV is saved in the Resources folder in the repository (Oregon_Library_Directory.csv). To extract this data, we created a data frame to read the file in a Jupyter Notebook."
   ]
  },
  {
   "cell_type": "markdown",
   "metadata": {},
   "source": [
    "##### Oregon School Report Cards"
   ]
  },
  {
   "cell_type": "markdown",
   "metadata": {},
   "source": [
    "    This database is provided by the Oregon Department of Education (https://www.ode.state.or.us/data/reportcard/media.aspx) and contains information for 1253 schools in Oregon. The database is only available as a CSV. This CSV is saved in the Resources folder in the repository (Oregon_Schools_Report_Card.csv). To extract this data, we created a data frame to read the file in a Jupyter Notebook."
   ]
  },
  {
   "cell_type": "markdown",
   "metadata": {},
   "source": [
    "### TRANSFORM"
   ]
  },
  {
   "cell_type": "markdown",
   "metadata": {},
   "source": [
    "##### US Census"
   ]
  },
  {
   "cell_type": "markdown",
   "metadata": {},
   "source": [
    "    From the original JSON requests, new data frames were created with only the specific columns needed. The former header was dropped, and a new variable was created to grab only the 'county' and 'county_population' columns. The word county and the state were then dropped from the 'county' column in order to merge with other data sets (example: Marion County, Oregon changed to Marion). The county population data and the county median household data were then merged on the 'county' column."
   ]
  },
  {
   "cell_type": "markdown",
   "metadata": {},
   "source": [
    "##### Oregon Libraries Database"
   ]
  },
  {
   "cell_type": "markdown",
   "metadata": {},
   "source": [
    "    From the original data frame, we copied the data to a new data frame with only the specific columns needed: Full Library Name, County, Type of Library. From there, we renamed columns and dropped the word “County” from the county column so that counties can match the US Census data (example: “Multnomah County” changed to “Multnomah”). Next, we transformed the data so that only Public and Volunteer libraries pulled through from the “type” column. We decided to exclude Academic, Special, and Tribal libraries because they aren’t all accessible to the public. The data is then grouped by the 'county' column and merged with the Census data on 'county' using a left merge."
   ]
  },
  {
   "cell_type": "markdown",
   "metadata": {},
   "source": [
    "##### Oregon School Report Cards"
   ]
  },
  {
   "cell_type": "markdown",
   "metadata": {},
   "source": [
    "    From the original data frame, we also copied this data to a new data frame with specific columns: School Name, School Type, County, Student Enrollment, English Language Arts, Mathematics, On-Time Graduation, College Going. Then, we renamed columns and dropped data for elementary and middle schools. The reason that we kept only high school data is because most of these students will have had ample time to access these public libraries, and we can better correlate accessibility to a public library with the likelihood of graduating on time or attending college. These two columns consist of percent scores for each school and originally pull through as an object, so the % sign needed to be removed and the number divided by 100 to get a decimal. These are then cast as float. NaN values are replaced with 0 for future mean calculations. Report Card data is then grouped by county and left merged with Library and Census data on the 'county' column. The on_time_graduation and attending_college columns are calculated as an average percent for all public schools in the county."
   ]
  },
  {
   "cell_type": "markdown",
   "metadata": {},
   "source": [
    "### LOAD"
   ]
  },
  {
   "cell_type": "code",
   "execution_count": null,
   "metadata": {},
   "outputs": [],
   "source": []
  },
  {
   "cell_type": "markdown",
   "metadata": {},
   "source": [
    "### FINDINGS"
   ]
  },
  {
   "cell_type": "code",
   "execution_count": null,
   "metadata": {},
   "outputs": [],
   "source": []
  },
  {
   "cell_type": "markdown",
   "metadata": {},
   "source": [
    "### LESSONS LEARNED"
   ]
  },
  {
   "cell_type": "code",
   "execution_count": null,
   "metadata": {},
   "outputs": [],
   "source": []
  }
 ],
 "metadata": {
  "kernelspec": {
   "display_name": "Python 3",
   "language": "python",
   "name": "python3"
  },
  "language_info": {
   "codemirror_mode": {
    "name": "ipython",
    "version": 3
   },
   "file_extension": ".py",
   "mimetype": "text/x-python",
   "name": "python",
   "nbconvert_exporter": "python",
   "pygments_lexer": "ipython3",
   "version": "3.7.3"
  }
 },
 "nbformat": 4,
 "nbformat_minor": 2
}
